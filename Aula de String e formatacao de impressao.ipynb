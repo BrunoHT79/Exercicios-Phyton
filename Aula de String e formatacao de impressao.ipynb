{
 "cells": [
  {
   "cell_type": "code",
   "execution_count": 1,
   "id": "c9a918f0",
   "metadata": {},
   "outputs": [
    {
     "data": {
      "text/plain": [
       "'Hello'"
      ]
     },
     "execution_count": 1,
     "metadata": {},
     "output_type": "execute_result"
    }
   ],
   "source": [
    "# Uma palavra\n",
    "'Hello'"
   ]
  },
  {
   "cell_type": "code",
   "execution_count": 2,
   "id": "0bf03c1d",
   "metadata": {},
   "outputs": [
    {
     "data": {
      "text/plain": [
       "'Isso também é uma string'"
      ]
     },
     "execution_count": 2,
     "metadata": {},
     "output_type": "execute_result"
    }
   ],
   "source": [
    "# Uma frase inteira\n",
    "'Isso também é uma string'"
   ]
  },
  {
   "cell_type": "code",
   "execution_count": 3,
   "id": "e06c5916",
   "metadata": {},
   "outputs": [
    {
     "data": {
      "text/plain": [
       "'String com aspas duplas'"
      ]
     },
     "execution_count": 3,
     "metadata": {},
     "output_type": "execute_result"
    }
   ],
   "source": [
    "# Também é possível usar aspas duplas\n",
    "\"String com aspas duplas\""
   ]
  },
  {
   "cell_type": "code",
   "execution_count": 4,
   "id": "d6fa968e",
   "metadata": {},
   "outputs": [
    {
     "data": {
      "text/plain": [
       "'Hello World'"
      ]
     },
     "execution_count": 4,
     "metadata": {},
     "output_type": "execute_result"
    }
   ],
   "source": [
    "# Podemos simplesmente declarar uma sting\n",
    "'Hello World'"
   ]
  },
  {
   "cell_type": "code",
   "execution_count": 5,
   "id": "1290f752",
   "metadata": {},
   "outputs": [
    {
     "name": "stdout",
     "output_type": "stream",
     "text": [
      "Hello World 1\n",
      "Hello World 2\n",
      "Use \n",
      " para inserir uma nova linha\n",
      "Nova linha\n"
     ]
    }
   ],
   "source": [
    "print('Hello World 1')\n",
    "print('Hello World 2')\n",
    "print('Use \\n para inserir uma nova linha')\n",
    "print('Nova linha')"
   ]
  },
  {
   "cell_type": "code",
   "execution_count": 6,
   "id": "7ba91f01",
   "metadata": {},
   "outputs": [
    {
     "data": {
      "text/plain": [
       "11"
      ]
     },
     "execution_count": 6,
     "metadata": {},
     "output_type": "execute_result"
    }
   ],
   "source": [
    "len('Hello World')"
   ]
  },
  {
   "cell_type": "code",
   "execution_count": 7,
   "id": "3692f0d2",
   "metadata": {},
   "outputs": [
    {
     "data": {
      "text/plain": [
       "'Hello World'"
      ]
     },
     "execution_count": 7,
     "metadata": {},
     "output_type": "execute_result"
    }
   ],
   "source": [
    "# Define s como uma string\n",
    "s = 'Hello World'\n",
    "\n",
    "# Mostrar\n",
    "s"
   ]
  },
  {
   "cell_type": "code",
   "execution_count": 8,
   "id": "6f97e112",
   "metadata": {},
   "outputs": [
    {
     "name": "stdout",
     "output_type": "stream",
     "text": [
      "Hello World\n"
     ]
    }
   ],
   "source": [
    "# Printar o objeto\n",
    "print(s)"
   ]
  },
  {
   "cell_type": "code",
   "execution_count": 9,
   "id": "4be6e2dc",
   "metadata": {},
   "outputs": [
    {
     "data": {
      "text/plain": [
       "'H'"
      ]
     },
     "execution_count": 9,
     "metadata": {},
     "output_type": "execute_result"
    }
   ],
   "source": [
    "# Mostrar o primeiro elemento\n",
    "s[0]"
   ]
  },
  {
   "cell_type": "code",
   "execution_count": 10,
   "id": "94df8529",
   "metadata": {},
   "outputs": [
    {
     "data": {
      "text/plain": [
       "'e'"
      ]
     },
     "execution_count": 10,
     "metadata": {},
     "output_type": "execute_result"
    }
   ],
   "source": [
    "s[1]"
   ]
  },
  {
   "cell_type": "code",
   "execution_count": 11,
   "id": "f7963f75",
   "metadata": {},
   "outputs": [
    {
     "data": {
      "text/plain": [
       "'l'"
      ]
     },
     "execution_count": 11,
     "metadata": {},
     "output_type": "execute_result"
    }
   ],
   "source": [
    "s[2]"
   ]
  },
  {
   "cell_type": "code",
   "execution_count": 12,
   "id": "137aeae0",
   "metadata": {},
   "outputs": [
    {
     "data": {
      "text/plain": [
       "'ello World'"
      ]
     },
     "execution_count": 12,
     "metadata": {},
     "output_type": "execute_result"
    }
   ],
   "source": [
    "# Realizar um corte e apresentar a partir do elemento desejado\n",
    "s[1:]"
   ]
  },
  {
   "cell_type": "code",
   "execution_count": 13,
   "id": "43630bbc",
   "metadata": {},
   "outputs": [
    {
     "data": {
      "text/plain": [
       "'Hello World'"
      ]
     },
     "execution_count": 13,
     "metadata": {},
     "output_type": "execute_result"
    }
   ],
   "source": [
    "s"
   ]
  },
  {
   "cell_type": "code",
   "execution_count": 14,
   "id": "8f33ced0",
   "metadata": {},
   "outputs": [
    {
     "data": {
      "text/plain": [
       "'Hel'"
      ]
     },
     "execution_count": 14,
     "metadata": {},
     "output_type": "execute_result"
    }
   ],
   "source": [
    "# Realiza um corte e apresenta até o elemento desejado\n",
    "s[:3]"
   ]
  },
  {
   "cell_type": "code",
   "execution_count": 15,
   "id": "f0137f84",
   "metadata": {},
   "outputs": [
    {
     "data": {
      "text/plain": [
       "'Hello World'"
      ]
     },
     "execution_count": 15,
     "metadata": {},
     "output_type": "execute_result"
    }
   ],
   "source": [
    "# Tudo\n",
    "s[:]"
   ]
  },
  {
   "cell_type": "code",
   "execution_count": 16,
   "id": "96ede083",
   "metadata": {},
   "outputs": [
    {
     "data": {
      "text/plain": [
       "'d'"
      ]
     },
     "execution_count": 16,
     "metadata": {},
     "output_type": "execute_result"
    }
   ],
   "source": [
    "# Apresentar a última letra\n",
    "s[-1]"
   ]
  },
  {
   "cell_type": "code",
   "execution_count": 17,
   "id": "24a343c6",
   "metadata": {},
   "outputs": [
    {
     "data": {
      "text/plain": [
       "'Hello Worl'"
      ]
     },
     "execution_count": 17,
     "metadata": {},
     "output_type": "execute_result"
    }
   ],
   "source": [
    "# Apresentar tudo menos a última letra\n",
    "s[:-1]"
   ]
  },
  {
   "cell_type": "code",
   "execution_count": 18,
   "id": "eafb214d",
   "metadata": {},
   "outputs": [
    {
     "data": {
      "text/plain": [
       "'Hello World'"
      ]
     },
     "execution_count": 18,
     "metadata": {},
     "output_type": "execute_result"
    }
   ],
   "source": [
    "# Pegar elementos com intervalos, onde o padrão é 1\n",
    "s[::1]"
   ]
  },
  {
   "cell_type": "code",
   "execution_count": 19,
   "id": "a744925d",
   "metadata": {},
   "outputs": [
    {
     "data": {
      "text/plain": [
       "'HloWrd'"
      ]
     },
     "execution_count": 19,
     "metadata": {},
     "output_type": "execute_result"
    }
   ],
   "source": [
    "# Pegar elementos com intervalos usando o intervalo de duas letras\n",
    "s[::2]"
   ]
  },
  {
   "cell_type": "code",
   "execution_count": 20,
   "id": "bd55ae6d",
   "metadata": {},
   "outputs": [
    {
     "data": {
      "text/plain": [
       "'dlroW olleH'"
      ]
     },
     "execution_count": 20,
     "metadata": {},
     "output_type": "execute_result"
    }
   ],
   "source": [
    "# Pegar todos os elementos porém com intervalo negativo - invertendo\n",
    "s[::-1]"
   ]
  },
  {
   "cell_type": "code",
   "execution_count": 21,
   "id": "d38eab12",
   "metadata": {},
   "outputs": [
    {
     "data": {
      "text/plain": [
       "'nohtyP olleH'"
      ]
     },
     "execution_count": 21,
     "metadata": {},
     "output_type": "execute_result"
    }
   ],
   "source": [
    "# Exercício 1\n",
    "p = 'Hello Python'\n",
    "p[::-1]"
   ]
  },
  {
   "cell_type": "code",
   "execution_count": 22,
   "id": "95559b25",
   "metadata": {},
   "outputs": [
    {
     "data": {
      "text/plain": [
       "'Hello '"
      ]
     },
     "execution_count": 22,
     "metadata": {},
     "output_type": "execute_result"
    }
   ],
   "source": [
    "p[:6]"
   ]
  },
  {
   "cell_type": "code",
   "execution_count": 23,
   "id": "64a6ec20",
   "metadata": {},
   "outputs": [
    {
     "data": {
      "text/plain": [
       "'Python'"
      ]
     },
     "execution_count": 23,
     "metadata": {},
     "output_type": "execute_result"
    }
   ],
   "source": [
    "p[6:]"
   ]
  },
  {
   "cell_type": "code",
   "execution_count": 24,
   "id": "09160b21",
   "metadata": {},
   "outputs": [
    {
     "data": {
      "text/plain": [
       "12"
      ]
     },
     "execution_count": 24,
     "metadata": {},
     "output_type": "execute_result"
    }
   ],
   "source": [
    "len(p)"
   ]
  },
  {
   "cell_type": "code",
   "execution_count": 25,
   "id": "09b1949f",
   "metadata": {},
   "outputs": [
    {
     "name": "stdout",
     "output_type": "stream",
     "text": [
      "Hello World\n"
     ]
    }
   ],
   "source": [
    "print(s)"
   ]
  },
  {
   "cell_type": "code",
   "execution_count": 26,
   "id": "c07a5f54",
   "metadata": {},
   "outputs": [
    {
     "ename": "TypeError",
     "evalue": "'str' object does not support item assignment",
     "output_type": "error",
     "traceback": [
      "\u001b[1;31m---------------------------------------------------------------------------\u001b[0m",
      "\u001b[1;31mTypeError\u001b[0m                                 Traceback (most recent call last)",
      "Input \u001b[1;32mIn [26]\u001b[0m, in \u001b[0;36m<cell line: 2>\u001b[1;34m()\u001b[0m\n\u001b[0;32m      1\u001b[0m \u001b[38;5;66;03m# Mudando a primeira letra\u001b[39;00m\n\u001b[1;32m----> 2\u001b[0m s[\u001b[38;5;241m0\u001b[39m]\u001b[38;5;241m=\u001b[39m\u001b[38;5;124m'\u001b[39m\u001b[38;5;124mx\u001b[39m\u001b[38;5;124m'\u001b[39m\n",
      "\u001b[1;31mTypeError\u001b[0m: 'str' object does not support item assignment"
     ]
    }
   ],
   "source": [
    "# Mudando a primeira letra\n",
    "s[0]='x'"
   ]
  },
  {
   "cell_type": "code",
   "execution_count": 27,
   "id": "bc0b4344",
   "metadata": {},
   "outputs": [
    {
     "data": {
      "text/plain": [
       "'Hello World'"
      ]
     },
     "execution_count": 27,
     "metadata": {},
     "output_type": "execute_result"
    }
   ],
   "source": [
    "s"
   ]
  },
  {
   "cell_type": "code",
   "execution_count": 29,
   "id": "d2092651",
   "metadata": {},
   "outputs": [
    {
     "data": {
      "text/plain": [
       "'Hello World concatenate me!'"
      ]
     },
     "execution_count": 29,
     "metadata": {},
     "output_type": "execute_result"
    }
   ],
   "source": [
    "# Não é possível substituir uma letra da string, mas é possível alterar toda a string\n",
    "s + ' concatenate me!'"
   ]
  },
  {
   "cell_type": "code",
   "execution_count": 30,
   "id": "38dd3c9c",
   "metadata": {},
   "outputs": [
    {
     "name": "stdout",
     "output_type": "stream",
     "text": [
      "Hello World concatenate me!\n"
     ]
    }
   ],
   "source": [
    "# Ou mudar de forma definitiva\n",
    "s = s + ' concatenate me!'\n",
    "print(s)"
   ]
  },
  {
   "cell_type": "code",
   "execution_count": 31,
   "id": "8a48f90c",
   "metadata": {},
   "outputs": [
    {
     "data": {
      "text/plain": [
       "'zzzzzzzzzz'"
      ]
     },
     "execution_count": 31,
     "metadata": {},
     "output_type": "execute_result"
    }
   ],
   "source": [
    "letter = 'z'\n",
    "letter * 10"
   ]
  },
  {
   "cell_type": "code",
   "execution_count": 32,
   "id": "f73fdc9b",
   "metadata": {},
   "outputs": [
    {
     "data": {
      "text/plain": [
       "'HELLO WORLD CONCATENATE ME!'"
      ]
     },
     "execution_count": 32,
     "metadata": {},
     "output_type": "execute_result"
    }
   ],
   "source": [
    "# Utilizando métodos em objetos\n",
    "# Colocar toda a string em caixa alta\n",
    "s.upper()"
   ]
  },
  {
   "cell_type": "code",
   "execution_count": 33,
   "id": "f4816728",
   "metadata": {},
   "outputs": [
    {
     "data": {
      "text/plain": [
       "'hello world concatenate me!'"
      ]
     },
     "execution_count": 33,
     "metadata": {},
     "output_type": "execute_result"
    }
   ],
   "source": [
    "# Colocar toda a strinf em caixa baixa\n",
    "s.lower()"
   ]
  },
  {
   "cell_type": "code",
   "execution_count": 34,
   "id": "c32dc734",
   "metadata": {},
   "outputs": [
    {
     "data": {
      "text/plain": [
       "['Hello', 'World', 'concatenate', 'me!']"
      ]
     },
     "execution_count": 34,
     "metadata": {},
     "output_type": "execute_result"
    }
   ],
   "source": [
    "# Dividir uma string nos espaços em branco\n",
    "s.split()"
   ]
  },
  {
   "cell_type": "code",
   "execution_count": 35,
   "id": "6f3d9f8f",
   "metadata": {},
   "outputs": [
    {
     "data": {
      "text/plain": [
       "['Hello ', 'orld concatenate me!']"
      ]
     },
     "execution_count": 35,
     "metadata": {},
     "output_type": "execute_result"
    }
   ],
   "source": [
    "# Divide a string em um elemento específico\n",
    "s.split('W')"
   ]
  },
  {
   "cell_type": "code",
   "execution_count": 36,
   "id": "5d5ea42e",
   "metadata": {},
   "outputs": [
    {
     "data": {
      "text/plain": [
       "['Hello', 'Python']"
      ]
     },
     "execution_count": 36,
     "metadata": {},
     "output_type": "execute_result"
    }
   ],
   "source": [
    "# Exercício 1\n",
    "p.split()"
   ]
  },
  {
   "cell_type": "code",
   "execution_count": 37,
   "id": "1ac3dd0c",
   "metadata": {},
   "outputs": [
    {
     "data": {
      "text/plain": [
       "'HELLO PYTHON'"
      ]
     },
     "execution_count": 37,
     "metadata": {},
     "output_type": "execute_result"
    }
   ],
   "source": [
    "# Exercício 2\n",
    "p.upper()"
   ]
  },
  {
   "cell_type": "code",
   "execution_count": 38,
   "id": "2b147b2d",
   "metadata": {},
   "outputs": [
    {
     "name": "stdout",
     "output_type": "stream",
     "text": [
      "This is a String\n"
     ]
    }
   ],
   "source": [
    "print('This is a String')"
   ]
  },
  {
   "cell_type": "code",
   "execution_count": 42,
   "id": "d1a593e5",
   "metadata": {},
   "outputs": [
    {
     "name": "stdout",
     "output_type": "stream",
     "text": [
      "Place another string with a mod and r: 'STRING'\n"
     ]
    }
   ],
   "source": [
    "r = 'STRING'\n",
    "print('Place another string with a mod and r: %r' %(r))"
   ]
  },
  {
   "cell_type": "code",
   "execution_count": 43,
   "id": "48f22860",
   "metadata": {},
   "outputs": [
    {
     "name": "stdout",
     "output_type": "stream",
     "text": [
      "Floating point numbers: 13.14\n"
     ]
    }
   ],
   "source": [
    "print('Floating point numbers: %1.2f' %(13.144))"
   ]
  },
  {
   "cell_type": "code",
   "execution_count": 44,
   "id": "15bead57",
   "metadata": {},
   "outputs": [
    {
     "name": "stdout",
     "output_type": "stream",
     "text": [
      "Floating point numbers: 13\n"
     ]
    }
   ],
   "source": [
    "print('Floating point numbers: %1.0f' %(13.144))"
   ]
  },
  {
   "cell_type": "code",
   "execution_count": 45,
   "id": "2eaeed26",
   "metadata": {},
   "outputs": [
    {
     "name": "stdout",
     "output_type": "stream",
     "text": [
      "Floating point numbers: 13.14400\n"
     ]
    }
   ],
   "source": [
    "print('Floating point numbers: %1.5f' %(13.144))"
   ]
  },
  {
   "cell_type": "code",
   "execution_count": 46,
   "id": "a0351fe2",
   "metadata": {},
   "outputs": [
    {
     "name": "stdout",
     "output_type": "stream",
     "text": [
      "Floating point numbers:      13.14\n"
     ]
    }
   ],
   "source": [
    "print('Floating point numbers: %10.2f' %(13.144))"
   ]
  },
  {
   "cell_type": "code",
   "execution_count": 47,
   "id": "da1509df",
   "metadata": {},
   "outputs": [
    {
     "name": "stdout",
     "output_type": "stream",
     "text": [
      "Floating point numbers:                     13.14\n"
     ]
    }
   ],
   "source": [
    "print('Floating point numbers: %25.2f' %(13.144))"
   ]
  },
  {
   "cell_type": "code",
   "execution_count": 48,
   "id": "08e62d02",
   "metadata": {},
   "outputs": [
    {
     "name": "stdout",
     "output_type": "stream",
     "text": [
      "Here is a number: 123.1. Here is a string: hi\n"
     ]
    }
   ],
   "source": [
    "print('Here is a number: %s. Here is a string: %s' %(123.1,'hi'))"
   ]
  },
  {
   "cell_type": "code",
   "execution_count": 49,
   "id": "3b286336",
   "metadata": {},
   "outputs": [
    {
     "name": "stdout",
     "output_type": "stream",
     "text": [
      "Here is a number: 123.1. Here is a string: 'hi'\n"
     ]
    }
   ],
   "source": [
    "print('Here is a number: %r. Here is a string: %r' %(123.1,'hi'))"
   ]
  },
  {
   "cell_type": "code",
   "execution_count": 52,
   "id": "eb7c2da5",
   "metadata": {},
   "outputs": [
    {
     "name": "stdout",
     "output_type": "stream",
     "text": [
      "First: hi!, Second: 3.14, Third: 22\n"
     ]
    }
   ],
   "source": [
    "print('First: %s, Second: %r, Third: %r' %('hi!',3.14,22))"
   ]
  },
  {
   "cell_type": "code",
   "execution_count": 53,
   "id": "a3cb7b48",
   "metadata": {},
   "outputs": [
    {
     "name": "stdout",
     "output_type": "stream",
     "text": [
      "This is a string with an insert\n"
     ]
    }
   ],
   "source": [
    "print('This is a string with an {b}'.format(b='insert'))"
   ]
  },
  {
   "cell_type": "code",
   "execution_count": 56,
   "id": "6654144f",
   "metadata": {},
   "outputs": [
    {
     "name": "stdout",
     "output_type": "stream",
     "text": [
      "One: hi!, Two: hi!, Three: hi!\n"
     ]
    }
   ],
   "source": [
    "print('One: {p}, Two: {p}, Three: {p}'.format(p='hi!'))"
   ]
  },
  {
   "cell_type": "code",
   "execution_count": 57,
   "id": "ce8237e7",
   "metadata": {},
   "outputs": [
    {
     "name": "stdout",
     "output_type": "stream",
     "text": [
      "Object 1: 1, Object 2: two, Object 3: 12\n"
     ]
    }
   ],
   "source": [
    "print('Object 1: {a}, Object 2: {b}, Object 3: {c}'.format(a=1,b='two',c=12))"
   ]
  },
  {
   "cell_type": "code",
   "execution_count": 63,
   "id": "dba9a7a7",
   "metadata": {},
   "outputs": [
    {
     "name": "stdout",
     "output_type": "stream",
     "text": [
      "O diâmetro da Terra é de 12742 kilômetros.\n"
     ]
    }
   ],
   "source": [
    "planeta = \"Terra\"\n",
    "diametro = 12742\n",
    "print('O diâmetro da {} é de {} kilômetros.'.format(planeta,diametro))"
   ]
  },
  {
   "cell_type": "code",
   "execution_count": null,
   "id": "5c85d862",
   "metadata": {},
   "outputs": [],
   "source": []
  },
  {
   "cell_type": "code",
   "execution_count": null,
   "id": "a9e7acb9",
   "metadata": {},
   "outputs": [],
   "source": []
  }
 ],
 "metadata": {
  "kernelspec": {
   "display_name": "Python 3 (ipykernel)",
   "language": "python",
   "name": "python3"
  },
  "language_info": {
   "codemirror_mode": {
    "name": "ipython",
    "version": 3
   },
   "file_extension": ".py",
   "mimetype": "text/x-python",
   "name": "python",
   "nbconvert_exporter": "python",
   "pygments_lexer": "ipython3",
   "version": "3.9.12"
  }
 },
 "nbformat": 4,
 "nbformat_minor": 5
}
